{
 "cells": [
  {
   "cell_type": "code",
   "execution_count": 9,
   "metadata": {},
   "outputs": [],
   "source": [
    "import numpy as np\n",
    "from math import sqrt\n",
    "import matplotlib.pyplot as plt\n",
    "from matplotlib import style\n",
    "from collections import Counter\n",
    "import warnings"
   ]
  },
  {
   "cell_type": "code",
   "execution_count": 19,
   "metadata": {},
   "outputs": [
    {
     "data": {
      "text/plain": [
       "<matplotlib.collections.PathCollection at 0x5587e45550>"
      ]
     },
     "execution_count": 19,
     "metadata": {},
     "output_type": "execute_result"
    },
    {
     "data": {
      "image/png": "[encoded data removed]",
      "text/plain": [
       "<Figure size 432x288 with 1 Axes>"
      ]
     },
     "metadata": {
      "needs_background": "light"
     },
     "output_type": "display_data"
    }
   ],
   "source": [
    "dataset = {\"k\": [[6,5],[7,7],[8,6]], \"r\":[[1,2],[2,3],[3,1]]}\n",
    "new_features = [5,7]\n",
    "\n",
    "for i in dataset:\n",
    "    for ii in dataset[i]:\n",
    "        plt.scatter(ii[0], ii[1], s=100,color = i)\n",
    "plt.scatter(new_features[0],new_features[1], s = 100)\n"
   ]
  },
  {
   "cell_type": "code",
   "execution_count": 21,
   "metadata": {},
   "outputs": [
    {
     "name": "stdout",
     "output_type": "stream",
     "text": [
      "[[2.23606797749979, 'k'], [2.0, 'k'], [3.1622776601683795, 'k'], [6.4031242374328485, 'r'], [5.0, 'r'], [6.324555320336759, 'r']]\n",
      "['k', 'k', 'k', 'r', 'r', 'r']\n",
      "[('k', 3), ('r', 3)]\n",
      "k\n"
     ]
    }
   ],
   "source": [
    " # Algorithm\n",
    "\n",
    "def k_nearest(data,predict,k=3):\n",
    "    if len(data)>=k:\n",
    "        warnings.warn(\"stupid, your data has more dimensions than prescribed\")\n",
    "    distances = []\n",
    "    for group in data:\n",
    "        for features in data[group]:\n",
    "            # euclidean_distance = np.sqrt(np.sum((np.array(features) - np.sum(predict)) **2))\n",
    "            euclidean_distance = np.linalg.norm(np.array(features) - np.array(predict))\n",
    "            distances.append([euclidean_distance,group])\n",
    "    print(distances)\n",
    "    votes = [i[1] for i in sorted(distances)] # adding group of name from the shortest paths\n",
    "    print(votes)\n",
    "    print(Counter(votes).most_common(5))\n",
    "    votes_result = Counter(votes).most_common(2)[0][0]\n",
    "    return votes_result\n",
    "\n",
    "result = k_nearest(dataset, new_features,3)\n",
    "print(result)\n",
    "    \n",
    "\n"
   ]
  },
  {
   "cell_type": "code",
   "execution_count": null,
   "metadata": {},
   "outputs": [],
   "source": []
  }
 ],
 "metadata": {
  "interpreter": {
   "hash": "a9e07d9c7114714814dde511de02846c2528fd0e5235b228d7fe89267f34beb2"
  },
  "kernelspec": {
   "display_name": "Python 3.9.7 64-bit",
   "language": "python",
   "name": "python3"
  },
  "language_info": {
   "codemirror_mode": {
    "name": "ipython",
    "version": 3
   },
   "file_extension": ".py",
   "mimetype": "text/x-python",
   "name": "python",
   "nbconvert_exporter": "python",
   "pygments_lexer": "ipython3",
   "version": "3.9.7"
  },
  "orig_nbformat": 4
 },
 "nbformat": 4,
 "nbformat_minor": 2
}
