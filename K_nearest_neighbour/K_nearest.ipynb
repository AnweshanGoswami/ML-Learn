{
 "cells": [
  {
   "cell_type": "code",
   "execution_count": 8,
   "metadata": {},
   "outputs": [],
   "source": [
    "import numpy as np\n",
    "from sklearn import preprocessing,neighbors\n",
    "import pandas as pd\n",
    "from sklearn.model_selection import train_test_split"
   ]
  },
  {
   "cell_type": "code",
   "execution_count": 7,
   "metadata": {},
   "outputs": [
    {
     "data": {
      "text/plain": [
       "0      1000025\n",
       "1      1002945\n",
       "2      1015425\n",
       "3      1016277\n",
       "4      1017023\n",
       "        ...   \n",
       "694     776715\n",
       "695     841769\n",
       "696     888820\n",
       "697     897471\n",
       "698     897471\n",
       "Name: id, Length: 699, dtype: int64"
      ]
     },
     "execution_count": 7,
     "metadata": {},
     "output_type": "execute_result"
    }
   ],
   "source": [
    "df[\"id\"]"
   ]
  },
  {
   "cell_type": "code",
   "execution_count": 26,
   "metadata": {},
   "outputs": [
    {
     "name": "stdout",
     "output_type": "stream",
     "text": [
      "0.9428571428571428\n"
     ]
    }
   ],
   "source": [
    "df = pd.read_csv(\"breast_cancer.txt\")\n",
    "df.replace(\"?\", -999999, inplace=True) # Algo will recognise it as an outlier, so we dont have to drop the entire row for that one missimg value\n",
    "# However, if other values are like -99999, then we need to use other values, because algo will not understand that\n",
    "# We could also replace ? with nan and then drop them, because only 16 values are there and that probably wont have much effect\n",
    "df.drop([\"id\"], axis=1, inplace=True)\n",
    "\n",
    "#print(df.shape)\n",
    "# selecting features and labels\n",
    "X = np.array(df.drop([\"class\"], axis=1))\n",
    "y = np.array(df[\"class\"])\n",
    "\n",
    "X_train, X_test,y_train,y_test = train_test_split(X,y,test_size=0.2)\n",
    "#y_train = y_train.reshape([559,1])\n",
    "#y_test = y_test.reshape([140,1])\n",
    "# selecting features and labels\n",
    "X = np.array(df.drop([\"class\"], axis=1))\n",
    "y = np.array(df[\"class\"])\n",
    "\n",
    "X_train, X_test,y_train,y_test = train_test_split(X,y,test_size=0.2)\n",
    "clf = neighbors.KNeighborsClassifier()\n",
    "\n",
    "clf.fit(X_train,y_train)\n",
    "accuracy = clf.score(X_test,y_test)\n",
    "\n",
    "print(accuracy)\n",
    "\n"
   ]
  },
  {
   "cell_type": "code",
   "execution_count": 31,
   "metadata": {},
   "outputs": [
    {
     "name": "stdout",
     "output_type": "stream",
     "text": [
      "0.9642857142857143\n"
     ]
    }
   ],
   "source": [
    "df = pd.read_csv(\"breast_cancer.txt\")\n",
    "df.replace(\"?\", -999999, inplace=True) # Algo will recognise it as an outlier, so we dont have to drop the entire row for that one missimg value\n",
    "# However, if other values are like -99999, then we need to use other values, because algo will not understand that\n",
    "# We could also replace ? with nan and then drop them, because only 16 values are there and that probably wont have much effect\n",
    "df.drop([\"id\"], axis=1, inplace=True)\n",
    "\n",
    "#print(df.shape)\n",
    "# selecting features and labels\n",
    "X = np.array(df.drop([\"class\"], axis=1))\n",
    "y = np.array(df[\"class\"])\n",
    "\n",
    "X_train, X_test,y_train,y_test = train_test_split(X,y,test_size=0.2)\n",
    "#y_train = y_train.reshape([559,1])\n",
    "#y_test = y_test.reshape([140,1])\n",
    "# selecting features and labels\n",
    "X = np.array(df.drop([\"class\"], axis=1))\n",
    "y = np.array(df[\"class\"])\n",
    "\n",
    "X_train, X_test,y_train,y_test = train_test_split(X,y,test_size=0.2)\n",
    "clf = neighbors.KNeighborsClassifier()\n",
    "\n",
    "clf.fit(X_train,y_train)\n",
    "accuracy = clf.score(X_test,y_test)\n",
    "\n",
    "print(accuracy)\n"
   ]
  },
  {
   "cell_type": "markdown",
   "metadata": {},
   "source": [
    "Now we'll see what'll happen if we also include id as a feature"
   ]
  },
  {
   "cell_type": "code",
   "execution_count": 28,
   "metadata": {},
   "outputs": [
    {
     "name": "stdout",
     "output_type": "stream",
     "text": [
      "0.5928571428571429\n"
     ]
    }
   ],
   "source": [
    "df = pd.read_csv(\"breast_cancer.txt\")\n",
    "df.replace(\"?\", -999999, inplace=True) # Algo will recognise it as an outlier, so we dont have to drop the entire row for that one missimg value\n",
    "# However, if other values are like -99999, then we need to use other values, because algo will not understand that\n",
    "# We could also replace ? with nan and then drop them, because only 16 values are there and that probably wont have much effect\n",
    "#df.drop([\"id\"], axis=1, inplace=True)\n",
    "\n",
    "#print(df.shape)\n",
    "# selecting features and labels\n",
    "X = np.array(df.drop([\"class\"], axis=1))\n",
    "y = np.array(df[\"class\"])\n",
    "\n",
    "X_train, X_test,y_train,y_test = train_test_split(X,y,test_size=0.2)\n",
    "#y_train = y_train.reshape([559,1])\n",
    "#y_test = y_test.reshape([140,1])\n",
    "# selecting features and labels\n",
    "X = np.array(df.drop([\"class\"], axis=1))\n",
    "y = np.array(df[\"class\"])\n",
    "\n",
    "X_train, X_test,y_train,y_test = train_test_split(X,y,test_size=0.2)\n",
    "clf = neighbors.KNeighborsClassifier()\n",
    "\n",
    "clf.fit(X_train,y_train)\n",
    "accuracy = clf.score(X_test,y_test)\n",
    "\n",
    "print(accuracy)\n"
   ]
  },
  {
   "cell_type": "markdown",
   "metadata": {},
   "source": [
    "Now we'll predict"
   ]
  },
  {
   "cell_type": "code",
   "execution_count": 33,
   "metadata": {},
   "outputs": [
    {
     "data": {
      "text/plain": [
       "array([2], dtype=int64)"
      ]
     },
     "execution_count": 33,
     "metadata": {},
     "output_type": "execute_result"
    }
   ],
   "source": [
    "example =  np.array([4,2,1,1,1,2,3,2,1])\n",
    "example = example.reshape(1, -1)\n",
    "clf.predict(example)"
   ]
  },
  {
   "cell_type": "code",
   "execution_count": null,
   "metadata": {},
   "outputs": [],
   "source": []
  }
 ],
 "metadata": {
  "interpreter": {
   "hash": "a9e07d9c7114714814dde511de02846c2528fd0e5235b228d7fe89267f34beb2"
  },
  "kernelspec": {
   "display_name": "Python 3.9.7 64-bit",
   "language": "python",
   "name": "python3"
  },
  "language_info": {
   "codemirror_mode": {
    "name": "ipython",
    "version": 3
   },
   "file_extension": ".py",
   "mimetype": "text/x-python",
   "name": "python",
   "nbconvert_exporter": "python",
   "pygments_lexer": "ipython3",
   "version": "3.9.7"
  },
  "orig_nbformat": 4
 },
 "nbformat": 4,
 "nbformat_minor": 2
}
