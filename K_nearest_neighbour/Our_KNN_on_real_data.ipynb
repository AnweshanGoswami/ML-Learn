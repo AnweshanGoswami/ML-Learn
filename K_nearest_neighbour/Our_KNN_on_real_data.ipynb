{
 "cells": [
  {
   "cell_type": "code",
   "execution_count": 1,
   "metadata": {},
   "outputs": [],
   "source": [
    "import numpy as np\n",
    "import pandas as pd\n",
    "from collections import Counter\n",
    "import warnings\n",
    "import random\n",
    "from math import sqrt"
   ]
  },
  {
   "cell_type": "code",
   "execution_count": 26,
   "metadata": {},
   "outputs": [],
   "source": [
    " # Algorithm\n",
    "\n",
    "def k_nearest(data,predict,k=5):\n",
    "    if len(data)>=k:\n",
    "        warnings.warn(\"stupid, your data has more dimensions than prescribed\")\n",
    "    distances = []\n",
    "    for group in data:\n",
    "        for features in data[group]:\n",
    "            # euclidean_distance = np.sqrt(np.sum((np.array(features) - np.sum(predict)) **2))\n",
    "            euclidean_distance = np.linalg.norm(np.array(features) - np.array(predict))\n",
    "            distances.append([euclidean_distance,group])\n",
    "    votes = [i[1] for i in sorted(distances)] # adding group of name from the shortest paths\n",
    "    votes_result = Counter(votes).most_common(3)[0][0]\n",
    "    return votes_result\n"
   ]
  },
  {
   "cell_type": "code",
   "execution_count": 32,
   "metadata": {},
   "outputs": [
    {
     "name": "stdout",
     "output_type": "stream",
     "text": [
      "Accuracy is 0.6442307692307693\n"
     ]
    }
   ],
   "source": [
    "df = pd.read_csv(\"breast_cancer.txt\")\n",
    "df.replace(\"?\", \"-99999\",inplace=True)\n",
    "df.drop(\"id\",axis = 1,inplace=True)\n",
    "full_data = df.astype(float).values.tolist()\n",
    "random.shuffle(full_data)\n",
    "#print(full_data[:10])\n",
    "\n",
    "test_size = 0.15\n",
    "train_set = {2:[],4:[]}\n",
    "test_set = {2:[],4:[]}\n",
    "train_data = full_data[:-int(test_size*len(full_data))]\n",
    "test_data = full_data[-int(test_size*len(full_data)):]\n",
    "\n",
    "for i in train_data:\n",
    "    train_set[i[-1]].append(i[:-1]) # appending with features and leaving out the label\n",
    "for i in test_data:\n",
    "    test_set[i[-1]].append(i[:-1]) # appending with features and leaving out the label\n",
    "\n",
    "correct,total = 0,0\n",
    "for group in test_set:\n",
    "    for data in test_set[group]:\n",
    "        vote = k_nearest(train_set, data,k=5)\n",
    "        if vote == group:\n",
    "            correct +=1\n",
    "        total += 1 \n",
    "print(\"Accuracy is\",correct/total)\n",
    "\n"
   ]
  },
  {
   "cell_type": "code",
   "execution_count": null,
   "metadata": {},
   "outputs": [],
   "source": []
  }
 ],
 "metadata": {
  "interpreter": {
   "hash": "a9e07d9c7114714814dde511de02846c2528fd0e5235b228d7fe89267f34beb2"
  },
  "kernelspec": {
   "display_name": "Python 3.9.7 64-bit",
   "language": "python",
   "name": "python3"
  },
  "language_info": {
   "codemirror_mode": {
    "name": "ipython",
    "version": 3
   },
   "file_extension": ".py",
   "mimetype": "text/x-python",
   "name": "python",
   "nbconvert_exporter": "python",
   "pygments_lexer": "ipython3",
   "version": "3.9.7"
  },
  "orig_nbformat": 4
 },
 "nbformat": 4,
 "nbformat_minor": 2
}
