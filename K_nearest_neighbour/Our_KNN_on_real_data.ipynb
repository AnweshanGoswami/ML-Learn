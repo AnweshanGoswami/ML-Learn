{
 "cells": [
  {
   "cell_type": "code",
   "execution_count": 1,
   "metadata": {},
   "outputs": [],
   "source": [
    "import numpy as np\n",
    "import pandas as pd\n",
    "from collections import Counter\n",
    "import warnings\n",
    "import random"
   ]
  },
  {
   "cell_type": "code",
   "execution_count": 2,
   "metadata": {},
   "outputs": [],
   "source": [
    " # Algorithm\n",
    "\n",
    "def k_nearest(data,predict,k=5):\n",
    "    if len(data)>=k:\n",
    "        warnings.warn(\"stupid, your data has more dimensions than prescribed\")\n",
    "    distances = []\n",
    "    for group in data: # The groups of 2s and 4s\n",
    "        for features in data[group]: # values in 2 and 4 respectively\n",
    "            #euclidean_distance = np.sqrt(np.sum((np.array(features) - np.sum(predict)) **2))\n",
    "            euclidean_distance = np.linalg.norm(np.array(features) - np.array(predict))\n",
    "            distances.append([euclidean_distance,group])\n",
    "    votes = [i[1] for i in sorted(distances)][:k] # adding the top k diatances from sorted(ascending) group names\n",
    "    votes_result = Counter(votes).most_common(1)[0][0] # the most common element\n",
    "    confidence = float((Counter(votes).most_common(1)[0][1]))/float(k)#ocuurences of the most common element\n",
    "    \n",
    "    return votes_result,confidence\n"
   ]
  },
  {
   "cell_type": "code",
   "execution_count": 3,
   "metadata": {},
   "outputs": [
    {
     "name": "stdout",
     "output_type": "stream",
     "text": [
      "1.0\n",
      "0.6\n",
      "0.6\n",
      "1.0\n",
      "0.6\n",
      "1.0\n",
      "Accuracy is 0.9568345323741008\n"
     ]
    }
   ],
   "source": [
    "#reading the data\n",
    "df = pd.read_csv(\"breast_cancer.txt\")\n",
    "df.replace(\"?\",-99999,inplace=True)\n",
    "#df.replace(\"?\", np.nan,inplace=True)\n",
    "#df.dropna(inplace=True)\n",
    "df.drop(\"id\",axis = 1,inplace=True)\n",
    "full_data = df.astype(float).values.tolist() # Converting to list because our function is written like that\n",
    "random.shuffle(full_data)\n",
    "#print(full_data[:10])\n",
    "\n",
    "test_size = 0.2\n",
    "train_set = {2:[],4:[]}\n",
    "test_set = {2:[],4:[]}\n",
    "train_data = full_data[:-int(test_size*len(full_data))] # Upto the last 20% of the og dateset\n",
    "test_data = full_data[-int(test_size*len(full_data)):] # The last 20% of the dataset\n",
    "\n",
    "# Populating the dictionary\n",
    "for i in train_data:\n",
    "    train_set[i[-1]].append(i[:-1]) # appending with features and leaving out the label\n",
    "for i in test_data:\n",
    "    test_set[i[-1]].append(i[:-1]) # appending with features and leaving out the label\n",
    "\n",
    "# Testing \n",
    "correct,total = 0,0\n",
    "for group in test_set:\n",
    "    for data in test_set[group]:\n",
    "        vote,confidence = k_nearest(train_set, data,k=5)\n",
    "        if vote == group:\n",
    "            correct +=1\n",
    "        else:\n",
    "            print(confidence)\n",
    "        total += 1 \n",
    "print(\"Accuracy is\",correct/total)"
   ]
  },
  {
   "cell_type": "code",
   "execution_count": null,
   "metadata": {},
   "outputs": [],
   "source": []
  },
  {
   "cell_type": "code",
   "execution_count": null,
   "metadata": {},
   "outputs": [],
   "source": []
  }
 ],
 "metadata": {
  "interpreter": {
   "hash": "a9e07d9c7114714814dde511de02846c2528fd0e5235b228d7fe89267f34beb2"
  },
  "kernelspec": {
   "display_name": "Python 3.9.7 64-bit",
   "language": "python",
   "name": "python3"
  },
  "language_info": {
   "codemirror_mode": {
    "name": "ipython",
    "version": 3
   },
   "file_extension": ".py",
   "mimetype": "text/x-python",
   "name": "python",
   "nbconvert_exporter": "python",
   "pygments_lexer": "ipython3",
   "version": "3.9.7"
  },
  "orig_nbformat": 4
 },
 "nbformat": 4,
 "nbformat_minor": 2
}
