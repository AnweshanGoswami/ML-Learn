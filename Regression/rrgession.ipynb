{
 "cells": [
  {
   "cell_type": "code",
   "execution_count": 1,
   "metadata": {},
   "outputs": [],
   "source": [
    "from statistics import mean\n",
    "import numpy as np\n",
    "import matplotlib.pyplot as plt"
   ]
  },
  {
   "cell_type": "code",
   "execution_count": 2,
   "metadata": {},
   "outputs": [
    {
     "data": {
      "image/png": "[encoded data removed]",
      "text/plain": [
       "<Figure size 720x576 with 1 Axes>"
      ]
     },
     "metadata": {
      "needs_background": "light"
     },
     "output_type": "display_data"
    }
   ],
   "source": [
    "xs = np.array(sorted(np.random.randint(0,50,25)), dtype=np.float64)\n",
    "ys = np.array(sorted(np.random.randint(0,50,25)), dtype=np.float64)\n",
    "plt.figure(figsize=[10,8])\n",
    "plt.scatter(xs,ys);\n"
   ]
  },
  {
   "cell_type": "code",
   "execution_count": 3,
   "metadata": {},
   "outputs": [],
   "source": [
    "def best_fit_slope(a,b):\n",
    "    m = (((mean(a)*mean(b)) - (mean(a*b))) / \n",
    "    ((mean(a)*mean(a))-mean(a*a)))\n",
    "    c = mean(b) - m*mean(a)\n",
    "    return(m,c)"
   ]
  },
  {
   "cell_type": "code",
   "execution_count": 4,
   "metadata": {},
   "outputs": [
    {
     "name": "stdout",
     "output_type": "stream",
     "text": [
      "0.8965541082441438 -5.613858237230012\n"
     ]
    }
   ],
   "source": [
    "m,c = best_fit_slope(xs,ys)\n",
    "print(m,c)"
   ]
  },
  {
   "cell_type": "code",
   "execution_count": 5,
   "metadata": {},
   "outputs": [
    {
     "name": "stdout",
     "output_type": "stream",
     "text": [
      "[-3.820750020741724, -2.9241959124975807, -2.9241959124975807, -1.1310876960092928, 6.041345169943858, 7.834453386432145, 9.627561602920434, 9.627561602920434, 12.317223927652865, 12.317223927652865, 13.213778035897008, 19.489656793606017, 20.38621090185016, 21.2827650100943, 21.2827650100943, 22.179319118338448, 27.55864376780331, 31.14486020077989, 32.93796841726817, 33.83452252551232, 34.73107663375646, 34.73107663375646, 36.52418485024475, 37.42073895848889, 38.317293066733036]\n"
     ]
    },
    {
     "data": {
      "image/png": "[encoded data removed]",
      "text/plain": [
       "<Figure size 432x288 with 1 Axes>"
      ]
     },
     "metadata": {
      "needs_background": "light"
     },
     "output_type": "display_data"
    }
   ],
   "source": [
    "reg_line = [((m*x) + c) for x in xs]\n",
    "print(reg_line)\n",
    "plt.scatter(xs,ys)\n",
    "plt.plot(reg_line)\n",
    "plt.show()"
   ]
  },
  {
   "cell_type": "code",
   "execution_count": 21,
   "metadata": {},
   "outputs": [
    {
     "name": "stdout",
     "output_type": "stream",
     "text": [
      "[4.428571428571429, 4.857142857142858, 5.2857142857142865, 5.714285714285714, 6.142857142857143, 6.571428571428572]\n"
     ]
    },
    {
     "data": {
      "image/png": "[encoded data removed]",
      "text/plain": [
       "<Figure size 432x288 with 1 Axes>"
      ]
     },
     "metadata": {
      "needs_background": "light"
     },
     "output_type": "display_data"
    }
   ],
   "source": [
    "xss = np.array([1,2,3,4,5,6],dtype=np.float64)\n",
    "yss = np.array([5,4,6,5,6,7],dtype=np.float64)\n",
    "m,c = best_fit_slope(xss,yss)\n",
    "reg_line = [(m*x + c) for x in xss]\n",
    "print(reg_line)\n",
    "plt.scatter(xss,yss)\n",
    "plt.plot(reg_line)\n",
    "plt.show()"
   ]
  },
  {
   "cell_type": "code",
   "execution_count": 9,
   "metadata": {},
   "outputs": [],
   "source": [
    "def RSS(yss, reg_line):\n",
    "    return sum((yss-reg_line)**2)"
   ]
  },
  {
   "cell_type": "code",
   "execution_count": 24,
   "metadata": {},
   "outputs": [],
   "source": [
    "def r2(yss,reg_line):\n",
    "    y_mean_line = [mean(yss) for y in range(len(yss))]\n",
    "    TSS = RSS(yss,y_mean_line)\n",
    "    r = 1 - (RSS(yss,reg_line)/TSS)\n",
    "    return r"
   ]
  },
  {
   "cell_type": "code",
   "execution_count": 25,
   "metadata": {},
   "outputs": [
    {
     "data": {
      "text/plain": [
       "0.5844155844155845"
      ]
     },
     "execution_count": 25,
     "metadata": {},
     "output_type": "execute_result"
    }
   ],
   "source": [
    "r2(yss,reg_line)"
   ]
  },
  {
   "cell_type": "code",
   "execution_count": 7,
   "metadata": {},
   "outputs": [
    {
     "name": "stdout",
     "output_type": "stream",
     "text": [
      "stats mean of x3.5\n",
      "numpy mean of x3.5\n",
      "stats mean of y5.5\n",
      "numpy mean of y5.5\n"
     ]
    }
   ],
   "source": [
    "xss = np.array([1,2,3,4,5,6],dtype=np.float64)\n",
    "yss = np.array([5,4,6,5,6,7],dtype=np.float64)\n",
    "print(\"stats mean of x\" + str(mean(xss)))\n",
    "print(\"numpy mean of x\" + str(np.mean(xss)))\n",
    "print(\"stats mean of y\" + str(mean(yss)))\n",
    "print(\"numpy mean of y\" + str(np.mean(yss)))\n"
   ]
  },
  {
   "cell_type": "code",
   "execution_count": 8,
   "metadata": {},
   "outputs": [
    {
     "name": "stdout",
     "output_type": "stream",
     "text": [
      "stats mean of x27.36\n",
      "numpy mean of x27.36\n",
      "stats mean of y29.52\n",
      "numpy mean of y29.52\n"
     ]
    }
   ],
   "source": [
    "xss = np.array(sorted(np.random.randint(0,50,25)), dtype=np.float64)\n",
    "yss = np.array(sorted(np.random.randint(0,50,25)), dtype=np.float64)\n",
    "print(\"stats mean of x\" + str(mean(xss)))\n",
    "print(\"numpy mean of x\" + str(np.mean(xss)))\n",
    "print(\"stats mean of y\" + str(mean(yss)))\n",
    "print(\"numpy mean of y\" + str(np.mean(yss)))\n"
   ]
  },
  {
   "cell_type": "code",
   "execution_count": null,
   "metadata": {},
   "outputs": [],
   "source": []
  }
 ],
 "metadata": {
  "interpreter": {
   "hash": "a9e07d9c7114714814dde511de02846c2528fd0e5235b228d7fe89267f34beb2"
  },
  "kernelspec": {
   "display_name": "Python 3.9.7 64-bit",
   "language": "python",
   "name": "python3"
  },
  "language_info": {
   "codemirror_mode": {
    "name": "ipython",
    "version": 3
   },
   "file_extension": ".py",
   "mimetype": "text/x-python",
   "name": "python",
   "nbconvert_exporter": "python",
   "pygments_lexer": "ipython3",
   "version": "3.9.7"
  },
  "orig_nbformat": 4
 },
 "nbformat": 4,
 "nbformat_minor": 2
}
