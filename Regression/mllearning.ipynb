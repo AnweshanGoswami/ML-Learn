{
  "cells": [
    {
      "cell_type": "code",
      "execution_count": 1,
      "metadata": {
        "colab": {
          "base_uri": "https://localhost:8080/",
          "height": 321
        },
        "id": "mT5XXNM7Md9h",
        "outputId": "3cd47bea-5e0b-45cd-c1dd-5f1485edd47a"
      },
      "outputs": [],
      "source": [
        "import pandas as pd\n",
        "import quandl\n",
        "import math,datetime\n",
        "import numpy as np\n",
        "from sklearn import preprocessing,svm\n",
        "from sklearn.model_selection import train_test_split\n",
        "from sklearn.linear_model import LinearRegression\n",
        "import matplotlib.pyplot as plt\n",
        "from matplotlib import style"
      ]
    },
    {
      "cell_type": "code",
      "execution_count": 2,
      "metadata": {
        "id": "nkhJmfqgMlqd"
      },
      "outputs": [],
      "source": [
        "df = quandl.get(\"WIKI/GOOGL\")\n",
        "\n"
      ]
    },
    {
      "cell_type": "code",
      "execution_count": 3,
      "metadata": {},
      "outputs": [
        {
          "data": {
            "text/html": [
              "<div>\n",
              "<style scoped>\n",
              "    .dataframe tbody tr th:only-of-type {\n",
              "        vertical-align: middle;\n",
              "    }\n",
              "\n",
              "    .dataframe tbody tr th {\n",
              "        vertical-align: top;\n",
              "    }\n",
              "\n",
              "    .dataframe thead th {\n",
              "        text-align: right;\n",
              "    }\n",
              "</style>\n",
              "<table border=\"1\" class=\"dataframe\">\n",
              "  <thead>\n",
              "    <tr style=\"text-align: right;\">\n",
              "      <th></th>\n",
              "      <th>Open</th>\n",
              "      <th>High</th>\n",
              "      <th>Low</th>\n",
              "      <th>Close</th>\n",
              "      <th>Volume</th>\n",
              "      <th>Ex-Dividend</th>\n",
              "      <th>Split Ratio</th>\n",
              "      <th>Adj. Open</th>\n",
              "      <th>Adj. High</th>\n",
              "      <th>Adj. Low</th>\n",
              "      <th>Adj. Close</th>\n",
              "      <th>Adj. Volume</th>\n",
              "    </tr>\n",
              "    <tr>\n",
              "      <th>Date</th>\n",
              "      <th></th>\n",
              "      <th></th>\n",
              "      <th></th>\n",
              "      <th></th>\n",
              "      <th></th>\n",
              "      <th></th>\n",
              "      <th></th>\n",
              "      <th></th>\n",
              "      <th></th>\n",
              "      <th></th>\n",
              "      <th></th>\n",
              "      <th></th>\n",
              "    </tr>\n",
              "  </thead>\n",
              "  <tbody>\n",
              "    <tr>\n",
              "      <th>2004-08-19</th>\n",
              "      <td>100.01</td>\n",
              "      <td>104.06</td>\n",
              "      <td>95.96</td>\n",
              "      <td>100.335</td>\n",
              "      <td>44659000.0</td>\n",
              "      <td>0.0</td>\n",
              "      <td>1.0</td>\n",
              "      <td>50.159839</td>\n",
              "      <td>52.191109</td>\n",
              "      <td>48.128568</td>\n",
              "      <td>50.322842</td>\n",
              "      <td>44659000.0</td>\n",
              "    </tr>\n",
              "    <tr>\n",
              "      <th>2004-08-20</th>\n",
              "      <td>101.01</td>\n",
              "      <td>109.08</td>\n",
              "      <td>100.50</td>\n",
              "      <td>108.310</td>\n",
              "      <td>22834300.0</td>\n",
              "      <td>0.0</td>\n",
              "      <td>1.0</td>\n",
              "      <td>50.661387</td>\n",
              "      <td>54.708881</td>\n",
              "      <td>50.405597</td>\n",
              "      <td>54.322689</td>\n",
              "      <td>22834300.0</td>\n",
              "    </tr>\n",
              "    <tr>\n",
              "      <th>2004-08-23</th>\n",
              "      <td>110.76</td>\n",
              "      <td>113.48</td>\n",
              "      <td>109.05</td>\n",
              "      <td>109.400</td>\n",
              "      <td>18256100.0</td>\n",
              "      <td>0.0</td>\n",
              "      <td>1.0</td>\n",
              "      <td>55.551482</td>\n",
              "      <td>56.915693</td>\n",
              "      <td>54.693835</td>\n",
              "      <td>54.869377</td>\n",
              "      <td>18256100.0</td>\n",
              "    </tr>\n",
              "    <tr>\n",
              "      <th>2004-08-24</th>\n",
              "      <td>111.24</td>\n",
              "      <td>111.60</td>\n",
              "      <td>103.57</td>\n",
              "      <td>104.870</td>\n",
              "      <td>15247300.0</td>\n",
              "      <td>0.0</td>\n",
              "      <td>1.0</td>\n",
              "      <td>55.792225</td>\n",
              "      <td>55.972783</td>\n",
              "      <td>51.945350</td>\n",
              "      <td>52.597363</td>\n",
              "      <td>15247300.0</td>\n",
              "    </tr>\n",
              "    <tr>\n",
              "      <th>2004-08-25</th>\n",
              "      <td>104.76</td>\n",
              "      <td>108.00</td>\n",
              "      <td>103.88</td>\n",
              "      <td>106.000</td>\n",
              "      <td>9188600.0</td>\n",
              "      <td>0.0</td>\n",
              "      <td>1.0</td>\n",
              "      <td>52.542193</td>\n",
              "      <td>54.167209</td>\n",
              "      <td>52.100830</td>\n",
              "      <td>53.164113</td>\n",
              "      <td>9188600.0</td>\n",
              "    </tr>\n",
              "  </tbody>\n",
              "</table>\n",
              "</div>"
            ],
            "text/plain": [
              "              Open    High     Low    Close      Volume  Ex-Dividend  \\\n",
              "Date                                                                   \n",
              "2004-08-19  100.01  104.06   95.96  100.335  44659000.0          0.0   \n",
              "2004-08-20  101.01  109.08  100.50  108.310  22834300.0          0.0   \n",
              "2004-08-23  110.76  113.48  109.05  109.400  18256100.0          0.0   \n",
              "2004-08-24  111.24  111.60  103.57  104.870  15247300.0          0.0   \n",
              "2004-08-25  104.76  108.00  103.88  106.000   9188600.0          0.0   \n",
              "\n",
              "            Split Ratio  Adj. Open  Adj. High   Adj. Low  Adj. Close  \\\n",
              "Date                                                                   \n",
              "2004-08-19          1.0  50.159839  52.191109  48.128568   50.322842   \n",
              "2004-08-20          1.0  50.661387  54.708881  50.405597   54.322689   \n",
              "2004-08-23          1.0  55.551482  56.915693  54.693835   54.869377   \n",
              "2004-08-24          1.0  55.792225  55.972783  51.945350   52.597363   \n",
              "2004-08-25          1.0  52.542193  54.167209  52.100830   53.164113   \n",
              "\n",
              "            Adj. Volume  \n",
              "Date                     \n",
              "2004-08-19   44659000.0  \n",
              "2004-08-20   22834300.0  \n",
              "2004-08-23   18256100.0  \n",
              "2004-08-24   15247300.0  \n",
              "2004-08-25    9188600.0  "
            ]
          },
          "execution_count": 3,
          "metadata": {},
          "output_type": "execute_result"
        }
      ],
      "source": [
        "df.head()"
      ]
    },
    {
      "cell_type": "code",
      "execution_count": 4,
      "metadata": {},
      "outputs": [
        {
          "data": {
            "text/plain": [
              "Index(['Open', 'High', 'Low', 'Close', 'Volume', 'Ex-Dividend', 'Split Ratio',\n",
              "       'Adj. Open', 'Adj. High', 'Adj. Low', 'Adj. Close', 'Adj. Volume'],\n",
              "      dtype='object')"
            ]
          },
          "execution_count": 4,
          "metadata": {},
          "output_type": "execute_result"
        }
      ],
      "source": [
        "df.columns"
      ]
    },
    {
      "cell_type": "code",
      "execution_count": 5,
      "metadata": {},
      "outputs": [],
      "source": [
        "df = df[['Adj. Open', 'Adj. High', 'Adj. Low', 'Adj. Close', 'Adj. Volume']]"
      ]
    },
    {
      "cell_type": "code",
      "execution_count": 6,
      "metadata": {},
      "outputs": [],
      "source": [
        "df[\"HL_PCT\"] = (df[\"Adj. High\"] - df[\"Adj. Close\"]/df[\"Adj. Close\"])\n",
        "df[\"PCT_Change\"] = (df[\"Adj. Close\"] - df[\"Adj. Open\"]/df[\"Adj. Open\"])"
      ]
    },
    {
      "cell_type": "code",
      "execution_count": 7,
      "metadata": {},
      "outputs": [],
      "source": [
        "df = df[[\"Adj. Close\", \"HL_PCT\", \"PCT_Change\", \"Adj. Volume\"]]"
      ]
    },
    {
      "cell_type": "code",
      "execution_count": 8,
      "metadata": {},
      "outputs": [],
      "source": [
        "forecast_col = \"Adj. Close\"\n",
        "df.fillna(-999999,inplace=True)"
      ]
    },
    {
      "cell_type": "code",
      "execution_count": 9,
      "metadata": {},
      "outputs": [],
      "source": [
        "forecast_out = int(math.ceil(0.01*len(df))) #forecasting 1% of total values inti the future"
      ]
    },
    {
      "cell_type": "code",
      "execution_count": 10,
      "metadata": {},
      "outputs": [],
      "source": [
        "df[\"label\"] = df[forecast_col].shift(-forecast_out)#shifting so that 1% ahead day's value is in the same row\n",
        "df.dropna(inplace=True)#to remove the empty spaces"
      ]
    },
    {
      "cell_type": "code",
      "execution_count": 11,
      "metadata": {},
      "outputs": [],
      "source": [
        "# assigning features and labels for regression\n",
        "# use numpy for faster computation using arrays\n",
        "X = np.array(df.drop(\"label\", axis=1))\n",
        "X = preprocessing.scale(X)\n",
        "y = np.array(df[\"label\"])"
      ]
    },
    {
      "cell_type": "markdown",
      "metadata": {},
      "source": [
        "Scaling is important to bring all values to the sam scale. We usually only scale the x values.Regression trains on the sacled x to  produce the y, so it doesnt really matter if we scale the y or not. However, We must input scaled values while making predictions, otherwise problems might be caused. Also, it s a good idea to scale hthe y if the data is very spread"
      ]
    },
    {
      "cell_type": "code",
      "execution_count": 12,
      "metadata": {},
      "outputs": [
        {
          "name": "stdout",
          "output_type": "stream",
          "text": [
            "2711\n",
            "678\n"
          ]
        }
      ],
      "source": [
        "# splitting into sample and test sample\n",
        "X_train, X_test, y_train,y_test = train_test_split(X,y, test_size=0.2) # 0.2 means 20% of data is our sample size\n",
        "print(len(X_train)) # 80% is training sample\n",
        "print(len(X_test)) #20% is testing sample"
      ]
    },
    {
      "cell_type": "markdown",
      "metadata": {},
      "source": [
        "Our values are future stock prices. Now, our regression model predicts the same, and it uses the features mentioned above as variables in its regression. Change the variable to check different model"
      ]
    },
    {
      "cell_type": "code",
      "execution_count": 13,
      "metadata": {},
      "outputs": [
        {
          "name": "stdout",
          "output_type": "stream",
          "text": [
            "0.9768566625922788\n"
          ]
        }
      ],
      "source": [
        "# We use  linear regression classifier and perform linear regression with 80% sample size\n",
        "clf=LinearRegression() # our classifier is linear regression\n",
        "clf.fit(X_train,y_train)# fitting a regression into this data, x is feature and y is label\n",
        "accuracy = clf.score(X_test,y_test)# testing if our fit is good by trying to predict the values in our test set. check how much acccuracy\n",
        "print(accuracy)"
      ]
    },
    {
      "cell_type": "code",
      "execution_count": 14,
      "metadata": {},
      "outputs": [
        {
          "name": "stdout",
          "output_type": "stream",
          "text": [
            "2711\n",
            "678\n",
            "0.9779376668692942\n"
          ]
        }
      ],
      "source": [
        "# We run the same model again, to see accuracy is similrar or not. It changes with sample which is random\n",
        "# splitting into sample and test sample\n",
        "X_train, X_test, y_train,y_test = train_test_split(X,y, test_size=0.2) # 0.2 means 20% of data is our sample size\n",
        "print(len(X_train)) # 80% is training sample\n",
        "print(len(X_test)) #20% is testing sample\n",
        "clf=LinearRegression() # our classifier is linear regression\n",
        "clf.fit(X_train,y_train)# fitting a regression into this data, x is feature and y is label\n",
        "accuracy = clf.score(X_test,y_test)# testing if our fit is good by trying to predict the values in our test set. check how much acccuracy\n",
        "print(accuracy)"
      ]
    },
    {
      "cell_type": "code",
      "execution_count": 15,
      "metadata": {},
      "outputs": [
        {
          "name": "stdout",
          "output_type": "stream",
          "text": [
            "2711\n",
            "678\n",
            "0.97755879235958\n"
          ]
        }
      ],
      "source": [
        "# we saw accuracy changed. So one more time\n",
        "X_train, X_test, y_train,y_test = train_test_split(X,y, test_size=0.2) # 0.2 means 20% of data is our sample size\n",
        "print(len(X_train)) # 80% is training sample\n",
        "print(len(X_test)) #20% is testing sample\n",
        "clf=LinearRegression() # our classifier is linear regression\n",
        "clf.fit(X_train,y_train)# fitting a regression into this data, x is feature and y is label\n",
        "accuracy = clf.score(X_test,y_test)# testing if our fit is good by trying to predict the values in our test set. check how much acccuracy\n",
        "print(accuracy)\n"
      ]
    },
    {
      "cell_type": "code",
      "execution_count": 16,
      "metadata": {},
      "outputs": [
        {
          "name": "stdout",
          "output_type": "stream",
          "text": [
            "3050\n",
            "339\n"
          ]
        }
      ],
      "source": [
        "# Now we change the sampke size to see if this is better\n",
        "# splitting into sample and test sample\n",
        "X_train, X_test, y_train,y_test = train_test_split(X,y, test_size=0.1) # 0.1 means 10% of data is our sample size\n",
        "print(len(X_train)) # 90% is training sample\n",
        "print(len(X_test)) #10% is testing sample"
      ]
    },
    {
      "cell_type": "code",
      "execution_count": 17,
      "metadata": {},
      "outputs": [
        {
          "name": "stdout",
          "output_type": "stream",
          "text": [
            "0.980915526609627\n"
          ]
        }
      ],
      "source": [
        "# We use  linear regression classifier and perform linear regression with 90% sample size\n",
        "clf=LinearRegression() # our classifier is linear regression\n",
        "clf.fit(X_train,y_train)# fitting a regression into this data, x is feature and y is label\n",
        "accuracy = clf.score(X_test,y_test)# testing if our fit is good by trying to predict the values in our test set. check how much acccuracy\n",
        "print(accuracy)"
      ]
    },
    {
      "cell_type": "code",
      "execution_count": 18,
      "metadata": {},
      "outputs": [
        {
          "name": "stdout",
          "output_type": "stream",
          "text": [
            "3050\n",
            "339\n",
            "0.9782419869814383\n"
          ]
        }
      ],
      "source": [
        "#One more time\n",
        "# Now we change the sampke size to see if this is better\n",
        "# splitting into sample and test sample\n",
        "X_train, X_test, y_train,y_test = train_test_split(X,y, test_size=0.1) # 0.1 means 10% of data is our sample size\n",
        "print(len(X_train)) # 90% is training sample\n",
        "print(len(X_test)) #10% is testing sample\n",
        "# We use  linear regression classifier and perform linear regression with 90% sample size\n",
        "clf=LinearRegression() # our classifier is linear regression\n",
        "clf.fit(X_train,y_train)# fitting a regression into this data, x is feature and y is label\n",
        "accuracy = clf.score(X_test,y_test)# testing if our fit is good by trying to predict the values in our test set. check how much acccuracy\n",
        "print(accuracy)"
      ]
    },
    {
      "cell_type": "code",
      "execution_count": 19,
      "metadata": {},
      "outputs": [
        {
          "name": "stdout",
          "output_type": "stream",
          "text": [
            "0.8359121487014455\n"
          ]
        }
      ],
      "source": [
        "# now we use a svm regressin bevause its a different algo\n",
        "X_train, X_test, y_train,y_test = train_test_split(X,y, test_size=0.2) # 0.2 means 20% of data is our sample size\n",
        "clf=svm.SVR() # our classifier is linear regression\n",
        "clf.fit(X_train,y_train)# fitting a regression into this data, x is feature and y is label\n",
        "accuracy = clf.score(X_test,y_test)# testing if our fit is good by trying to predict the values in our test set. check how much acccuracy\n",
        "print(accuracy)\n"
      ]
    },
    {
      "cell_type": "markdown",
      "metadata": {},
      "source": [
        "Now we need to actually predict the data. But we dont have new stock prices. So we'll use the empty cells that were formed when we shifetd the rows. So we'll undo all of that to create a new df."
      ]
    },
    {
      "cell_type": "code",
      "execution_count": 20,
      "metadata": {},
      "outputs": [
        {
          "name": "stdout",
          "output_type": "stream",
          "text": [
            "2018-02-05 00:00:00\n",
            "1517788800.0\n",
            "1517875200.0\n"
          ]
        }
      ],
      "source": [
        "df = quandl.get(\"WIKI/GOOGL\")\n",
        "\n",
        "df = df[['Adj. Open', 'Adj. High', 'Adj. Low', 'Adj. Close', 'Adj. Volume']]\n",
        "df[\"HL_PCT\"] = (df[\"Adj. High\"] - df[\"Adj. Close\"]/df[\"Adj. Close\"])\n",
        "df[\"PCT_Change\"] = (df[\"Adj. Close\"] - df[\"Adj. Open\"]/df[\"Adj. Open\"])\n",
        "df = df[[\"Adj. Close\", \"HL_PCT\", \"PCT_Change\", \"Adj. Volume\"]]\n",
        "\n",
        "forecast_col = \"Adj. Close\"\n",
        "df.fillna(-999999,inplace=True)\n",
        "\n",
        "forecast_out = int(math.ceil(0.01*len(df))) #forecasting 1% of total values inti the future\n",
        "df[\"label\"] = df[forecast_col].shift(-forecast_out)#shifting so that 1% ahead day's value is in the same row\n",
        "\n",
        "# assigning features and labels for regression\n",
        "# use numpy for faster computation using arrays\n",
        "X = np.array(df.drop(\"label\", axis=1))\n",
        "X = preprocessing.scale(X)\n",
        "X_lately = X[-forecast_out:] # Sleecting the last 35\n",
        "X = X[:-forecast_out] #sleecting everything upto the last 35\n",
        "\n",
        "df.dropna(inplace=True)#to remove the empty spaces\n",
        "y = np.array(df[\"label\"])\n",
        "\n",
        "#testing and trianing\n",
        "clf = LinearRegression()\n",
        "X_train,X_test, y_train,y_test = train_test_split(X,y, test_size=0.2)\n",
        "clf.fit(X_train,y_train)\n",
        "#print(\"The accuracy of this model is\")\n",
        "accuracy = clf.score(X_test,y_test)\n",
        "#print(accuracy)\n",
        "\n",
        "#predicting the last 35 days' value\n",
        "forecast_set = clf.predict(X_lately)\n",
        "#print(\"The forvatsr values are\")\n",
        "#print(forecast_set)\n",
        "\n",
        "#plotting\n",
        "last_date = df.iloc[-1].name\n",
        "print(last_date)\n",
        "last_unix = last_date.timestamp()\n",
        "print(last_unix)\n",
        "one_day = 86400\n",
        "next_unix = last_unix + one_day\n",
        "print(next_unix)"
      ]
    },
    {
      "cell_type": "code",
      "execution_count": 21,
      "metadata": {},
      "outputs": [
        {
          "data": {
            "image/png": "[encoded data removed]",
            "text/plain": [
              "<Figure size 432x288 with 1 Axes>"
            ]
          },
          "metadata": {},
          "output_type": "display_data"
        }
      ],
      "source": [
        "#plotting\n",
        "style.use(\"ggplot\")\n",
        "last_date = df.iloc[-1].name\n",
        "last_unix = last_date.timestamp()\n",
        "one_day = 86400\n",
        "next_unix = last_unix + one_day\n",
        "\n",
        "df[\"Forecast\"] =np.nan\n",
        "\n",
        "for i in forecast_set:\n",
        "    next_date = datetime.datetime.fromtimestamp(next_unix)\n",
        "    df.loc[next_date] = [np.nan for x in range(len(df.columns)-1)] + [i]\n",
        "    next_unix += one_day\n",
        "df[\"label\"].plot()\n",
        "df[\"Forecast\"].plot()\n",
        "plt.legend()\n",
        "plt.ylabel(\"Price\")\n",
        "plt.xlabel(\"date\")\n",
        "plt.show()\n",
        "\n"
      ]
    },
    {
      "cell_type": "code",
      "execution_count": null,
      "metadata": {},
      "outputs": [],
      "source": []
    }
  ],
  "metadata": {
    "colab": {
      "name": "mllearning.ipynb",
      "provenance": []
    },
    "kernelspec": {
      "display_name": "Python 3",
      "name": "python3"
    },
    "language_info": {
      "codemirror_mode": {
        "name": "ipython",
        "version": 3
      },
      "file_extension": ".py",
      "mimetype": "text/x-python",
      "name": "python",
      "nbconvert_exporter": "python",
      "pygments_lexer": "ipython3",
      "version": "3.8.8"
    }
  },
  "nbformat": 4,
  "nbformat_minor": 0
}
