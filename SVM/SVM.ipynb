{
 "cells": [
  {
   "cell_type": "code",
   "execution_count": 3,
   "metadata": {},
   "outputs": [],
   "source": [
    "import numpy as np\n",
    "from sklearn import preprocessing,neighbors,svm \n",
    "import pandas as pd\n",
    "from sklearn.model_selection import train_test_split"
   ]
  },
  {
   "cell_type": "code",
   "execution_count": 6,
   "metadata": {},
   "outputs": [
    {
     "name": "stdout",
     "output_type": "stream",
     "text": [
      "0.9642857142857143\n"
     ]
    }
   ],
   "source": [
    "df = pd.read_csv(\"breast_cancer.txt\")\n",
    "df.replace(\"?\", -999999, inplace=True) # Algo will recognise it as an outlier, so we dont have to drop the entire row for that one missimg value\n",
    "# However, if other values are like -99999, then we need to use other values, because algo will not understand that\n",
    "# We could also replace ? with nan and then drop them, because only 16 values are there and that probably wont have much effect\n",
    "df.drop([\"id\"], axis=1, inplace=True)\n",
    "\n",
    "#print(df.shape)\n",
    "# selecting features and labels\n",
    "X = np.array(df.drop([\"class\"], axis=1))\n",
    "y = np.array(df[\"class\"])\n",
    "\n",
    "X_train, X_test,y_train,y_test = train_test_split(X,y,test_size=0.2)\n",
    "#y_train = y_train.reshape([559,1])\n",
    "#y_test = y_test.reshape([140,1])\n",
    "# selecting features and labels\n",
    "X = np.array(df.drop([\"class\"], axis=1))\n",
    "y = np.array(df[\"class\"])\n",
    "\n",
    "X_train, X_test,y_train,y_test = train_test_split(X,y,test_size=0.2)\n",
    "clf = svm.SVC(gamma=\"auto\")\n",
    "\n",
    "clf.fit(X_train,y_train)\n",
    "accuracy = clf.score(X_test,y_test)\n",
    "\n",
    "print(accuracy)"
   ]
  },
  {
   "cell_type": "code",
   "execution_count": 9,
   "metadata": {},
   "outputs": [
    {
     "data": {
      "text/plain": [
       "array([2], dtype=int64)"
      ]
     },
     "execution_count": 9,
     "metadata": {},
     "output_type": "execute_result"
    }
   ],
   "source": [
    "example =  np.array([4,2,1,1,1,2,3,2,1])\n",
    "example = example.reshape(1, -1) # reshaped to one row and unknown columns\n",
    "clf.predict(example)"
   ]
  },
  {
   "cell_type": "code",
   "execution_count": null,
   "metadata": {},
   "outputs": [],
   "source": []
  }
 ],
 "metadata": {
  "interpreter": {
   "hash": "a9e07d9c7114714814dde511de02846c2528fd0e5235b228d7fe89267f34beb2"
  },
  "kernelspec": {
   "display_name": "Python 3.9.7 64-bit",
   "language": "python",
   "name": "python3"
  },
  "language_info": {
   "codemirror_mode": {
    "name": "ipython",
    "version": 3
   },
   "file_extension": ".py",
   "mimetype": "text/x-python",
   "name": "python",
   "nbconvert_exporter": "python",
   "pygments_lexer": "ipython3",
   "version": "3.9.7"
  },
  "orig_nbformat": 4
 },
 "nbformat": 4,
 "nbformat_minor": 2
}
